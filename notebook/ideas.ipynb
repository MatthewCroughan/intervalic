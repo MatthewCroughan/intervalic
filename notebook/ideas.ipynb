{
 "cells": [
  {
   "cell_type": "code",
   "execution_count": 109,
   "metadata": {},
   "outputs": [
    {
     "name": "stdout",
     "output_type": "stream",
     "text": [
      "serial exception on close write failed: [Errno 5] Input/output error\n",
      "\u001b[34mConnecting to --port=/dev/ttyUSB0 --baud=115200 \u001b[0m\n",
      "\u001b[34mReady.\n",
      "\u001b[0m"
     ]
    }
   ],
   "source": [
    "%serialconnect"
   ]
  },
  {
   "cell_type": "code",
   "execution_count": null,
   "metadata": {},
   "outputs": [
    {
     "name": "stdout",
     "output_type": "stream",
     "text": [
      "A#\n",
      "C\n",
      "G#\n",
      "A#\n",
      "E\n",
      "F#\n",
      "Duplicate value!\n",
      "G\n",
      "A#\n",
      "D#\n",
      ".C#\n",
      "G#\n",
      "E\n",
      "A\n",
      "E\n",
      "B\n",
      "E\n",
      "C#\n",
      "D#\n"
     ]
    }
   ],
   "source": [
    "import operator\n",
    "import intervals as intervals\n",
    "import notes as notes\n",
    "import random\n",
    "import time\n",
    "import ssd1306\n",
    "import machine\n",
    "\n",
    "from machine import I2C, Pin\n",
    "import framebuf\n",
    "i2c = machine.I2C(-1, scl=machine.Pin(5), sda=machine.Pin(4))\n",
    "display = ssd1306.SSD1306_I2C(128, 64, i2c)\n",
    "display.fill(0)\n",
    "\n",
    "\n",
    "previous_value = -1 # Resetting previous value to clean\n",
    "while True:\n",
    "    time.sleep(0.5)\n",
    "    random_value = random.getrandbits(30)%12\n",
    "    random_value2 = random.getrandbits(29)%12\n",
    "    if random_value == previous_value:\n",
    "        print(\"Duplicate value!\")\n",
    "        random_value = (random_value+1)%12\n",
    "    previous_value = random_value\n",
    "    random_note = notes.int_to_note(random_value)\n",
    "    random_note2 = notes.int_to_note(random_value2)\n",
    "    random_interval = intervals.determine(random_note, random_note2)\n",
    "    print(random_note)\n",
    "    display.text(random_interval, 0, 0, 200)\n",
    "    display.text(\"from\", 0, 10, 200)\n",
    "    display.text(random_note, 0, 20, 200)\n",
    "    display.show()\n",
    "    display.fill(0)\n",
    "\n"
   ]
  },
  {
   "cell_type": "code",
   "execution_count": 103,
   "metadata": {},
   "outputs": [
    {
     "name": "stdout",
     "output_type": "stream",
     "text": [
      "%capture [--quiet] [--QUIET] outputfilename\n",
      "    records output to a file\n",
      "\n",
      "%comment\n",
      "    print this into output\n",
      "\n",
      "%disconnect [--raw]\n",
      "    disconnects from web/serial connection\n",
      "\n",
      "%esptool [--port PORT] {erase,esp32,esp8266} [binfile]\n",
      "    commands for flashing your esp-device\n",
      "\n",
      "%fetchfile [--binary] [--print] [--quiet] [--QUIET]\n",
      "                  sourcefilename [destinationfilename]\n",
      "    fetch and save a file from the device\n",
      "\n",
      "%lsmagic\n",
      "    list magic commands\n",
      "\n",
      "%mpy-cross [--set-exe SET_EXE] [pyfile]\n",
      "    cross-compile a .py file to a .mpy file\n",
      "\n",
      "%readbytes [--binary]\n",
      "    does serial.read_all()\n",
      "\n",
      "%rebootdevice\n",
      "    reboots device\n",
      "\n",
      "%sendtofile [--append] [--mkdir] [--binary] [--execute]\n",
      "                   [--source [SOURCE]] [--quiet] [--QUIET]\n",
      "                   [destinationfilename]\n",
      "    send cell contents or file/direcectory to the device\n",
      "\n",
      "%serialconnect [--raw] [--port PORT] [--baud BAUD] [--verbose]\n",
      "    connects to a device over USB wire\n",
      "\n",
      "%socketconnect [--raw] ipnumber portnumber\n",
      "    connects to a socket of a device over wifi\n",
      "\n",
      "%suppressendcode\n",
      "    doesn't send x04 or wait to read after sending the contents of the cell\n",
      "  (assists for debugging using %writebytes and %readbytes)\n",
      "\n",
      "%websocketconnect [--raw] [--password PASSWORD] [--verbose]\n",
      "                         [websocketurl]\n",
      "    connects to the webREPL websocket of an ESP8266 over wifi\n",
      "    websocketurl defaults to ws://192.168.4.1:8266 but be sure to be connected\n",
      "\n",
      "%writebytes [--binary] [--verbose] stringtosend\n",
      "    does serial.write() of the python quoted string given\n",
      "\n",
      "%%writefile [--append] [--execute] destinationfilename\n",
      "    write contents of cell to a file\n",
      "\n"
     ]
    }
   ],
   "source": [
    "%lsmagic"
   ]
  },
  {
   "cell_type": "code",
   "execution_count": 104,
   "metadata": {},
   "outputs": [
    {
     "name": "stdout",
     "output_type": "stream",
     "text": [
      "\u001b[34m\n",
      "\n",
      "*** Sending Ctrl-C\n",
      "\n",
      "\u001b[0m"
     ]
    },
    {
     "name": "stderr",
     "output_type": "stream",
     "text": [
      "Traceback (most recent call last):\n",
      "  File \"<stdin>\", line 19, in <module>\n",
      "KeyboardInterrupt: \n"
     ]
    }
   ],
   "source": [
    "import intervals\n",
    "print(intervals.from_shorthand(\"E\", \"3\"))"
   ]
  }
 ],
 "metadata": {
  "kernelspec": {
   "display_name": "MicroPython - USB",
   "language": "micropython",
   "name": "micropython"
  },
  "language_info": {
   "codemirror_mode": "python",
   "file_extension": ".py",
   "mimetype": "text/python",
   "name": "micropython"
  }
 },
 "nbformat": 4,
 "nbformat_minor": 2
}
