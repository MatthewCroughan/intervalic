{
 "cells": [
  {
   "cell_type": "code",
   "execution_count": 375,
   "metadata": {},
   "outputs": [
    {
     "name": "stdout",
     "output_type": "stream",
     "text": [
      "serial exception on close write failed: [Errno 5] Input/output error\n",
      "\u001b[34mConnecting to --port=/dev/ttyUSB1 --baud=115200 \u001b[0m\n",
      "\u001b[34mReady.\n",
      "\u001b[0m"
     ]
    }
   ],
   "source": [
    "%serialconnect"
   ]
  },
  {
   "cell_type": "code",
   "execution_count": null,
   "metadata": {},
   "outputs": [
    {
     "name": "stdout",
     "output_type": "stream",
     "text": [
      "D\n",
      "F#\n",
      "B\n",
      "D\n",
      "E\n",
      "G#\n",
      "D\n",
      "G\n",
      "G#\n",
      ".Duplicate value!\n",
      "A\n"
     ]
    }
   ],
   "source": [
    "import operator\n",
    "import intervals as intervals\n",
    "import notes as notes\n",
    "import random\n",
    "import time\n",
    "import ssd1306\n",
    "import machine\n",
    "\n",
    "from machine import I2C, Pin\n",
    "import framebuf\n",
    "i2c = machine.I2C(-1, scl=machine.Pin(5), sda=machine.Pin(4))\n",
    "display = ssd1306.SSD1306_I2C(128, 64, i2c)\n",
    "display.fill(0)\n",
    "\n",
    "\n",
    "previous_value = -1 # Resetting previous value to clean\n",
    "while True:\n",
    "    time.sleep(0.5)\n",
    "    random_value = random.getrandbits(30)%12\n",
    "    if random_value == previous_value:\n",
    "        print(\"Duplicate value!\")\n",
    "        random_value = (random_value+1)%12\n",
    "    previous_value = random_value\n",
    "    random_note = notes.int_to_note(random_value)\n",
    "    print(random_note)\n",
    "    display.text(random_note, 20, 20, 200)\n",
    "    display.show()\n",
    "    display.fill(0)\n",
    "\n"
   ]
  },
  {
   "cell_type": "code",
   "execution_count": null,
   "metadata": {},
   "outputs": [],
   "source": []
  }
 ],
 "metadata": {
  "kernelspec": {
   "display_name": "MicroPython - USB",
   "language": "micropython",
   "name": "micropython"
  },
  "language_info": {
   "codemirror_mode": "python",
   "file_extension": ".py",
   "mimetype": "text/python",
   "name": "micropython"
  }
 },
 "nbformat": 4,
 "nbformat_minor": 2
}
